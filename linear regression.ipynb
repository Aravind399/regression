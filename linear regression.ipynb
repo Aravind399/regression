{
 "cells": [
  {
   "cell_type": "markdown",
   "id": "8f2b0133",
   "metadata": {},
   "source": [
    "# single variable linear regression"
   ]
  },
  {
   "cell_type": "code",
   "execution_count": null,
   "id": "61f582c6",
   "metadata": {},
   "outputs": [],
   "source": [
    "import pandas as pd \n",
    "import numpy as np\n",
    "import matplotlib.pyplot as plt\n",
    "from sklearn.linear_model import LinearRegression"
   ]
  },
  {
   "cell_type": "code",
   "execution_count": null,
   "id": "2146153c",
   "metadata": {},
   "outputs": [],
   "source": [
    "df = pd.read_csv('Salary_Data.csv')"
   ]
  },
  {
   "cell_type": "code",
   "execution_count": null,
   "id": "3e0418f3",
   "metadata": {},
   "outputs": [],
   "source": [
    "df"
   ]
  },
  {
   "cell_type": "code",
   "execution_count": null,
   "id": "3648632f",
   "metadata": {},
   "outputs": [],
   "source": [
    "df.info()"
   ]
  },
  {
   "cell_type": "code",
   "execution_count": null,
   "id": "98c13160",
   "metadata": {},
   "outputs": [],
   "source": [
    "df.describe()"
   ]
  },
  {
   "cell_type": "code",
   "execution_count": null,
   "id": "d005f9cc",
   "metadata": {},
   "outputs": [],
   "source": [
    "df.size"
   ]
  },
  {
   "cell_type": "code",
   "execution_count": null,
   "id": "148d89ec",
   "metadata": {},
   "outputs": [],
   "source": [
    "df.info(verbose=False)"
   ]
  },
  {
   "cell_type": "code",
   "execution_count": null,
   "id": "8be403be",
   "metadata": {},
   "outputs": [],
   "source": [
    "x = df[['YearsExperience']]\n",
    "y = df['Salary']"
   ]
  },
  {
   "cell_type": "code",
   "execution_count": null,
   "id": "4292f4a5",
   "metadata": {},
   "outputs": [],
   "source": [
    "plt.plot(x,y,color='r')"
   ]
  },
  {
   "cell_type": "code",
   "execution_count": null,
   "id": "a4b262b5",
   "metadata": {},
   "outputs": [],
   "source": [
    "\n",
    "plt.scatter(x,y)  # this show that the values are increasing linearly\n"
   ]
  },
  {
   "cell_type": "code",
   "execution_count": null,
   "id": "3d9249a1",
   "metadata": {},
   "outputs": [],
   "source": [
    "model = LinearRegression() ## creating linear model"
   ]
  },
  {
   "cell_type": "code",
   "execution_count": null,
   "id": "8a7348ff",
   "metadata": {},
   "outputs": [],
   "source": [
    "model.fit(x,y) # fitting the model to the model"
   ]
  },
  {
   "cell_type": "code",
   "execution_count": null,
   "id": "5b8e7ef1",
   "metadata": {},
   "outputs": [],
   "source": [
    "model.score(x,y)*100 # finding the accuracy of the model(linear model)"
   ]
  },
  {
   "cell_type": "code",
   "execution_count": null,
   "id": "d22754a6",
   "metadata": {},
   "outputs": [],
   "source": [
    "i = float(input('enter the year of experience : '))\n",
    "print(\"Predicted salary = \",model.predict([[i]]))"
   ]
  },
  {
   "cell_type": "markdown",
   "id": "a1f6f731",
   "metadata": {},
   "source": [
    "# y = m*x+c\n",
    "### salary = (slope)*(YearsExperience) + (interecept)"
   ]
  },
  {
   "cell_type": "code",
   "execution_count": null,
   "id": "366986bb",
   "metadata": {},
   "outputs": [],
   "source": [
    "print('The coefficient of the model = ',model.coef_)\n",
    "print(\"The intersept of the model = \",model.intercept_)"
   ]
  },
  {
   "cell_type": "code",
   "execution_count": null,
   "id": "bf25e4f8",
   "metadata": {},
   "outputs": [],
   "source": [
    "# solving using formula\n",
    "a = 9449.96232146 * x + 25792.200198668717\n",
    "print(a)"
   ]
  },
  {
   "cell_type": "code",
   "execution_count": null,
   "id": "fe15279e",
   "metadata": {},
   "outputs": [],
   "source": [
    "d = [1.1,2,3,7,5,6,2.6,8,6,3.9]\n",
    "\n",
    "d = pd.DataFrame(d)\n",
    "d"
   ]
  },
  {
   "cell_type": "code",
   "execution_count": null,
   "id": "26b9f250",
   "metadata": {},
   "outputs": [],
   "source": [
    "test = model.predict(d)\n",
    "test"
   ]
  },
  {
   "cell_type": "code",
   "execution_count": null,
   "id": "d6104acc",
   "metadata": {},
   "outputs": [],
   "source": [
    "d['price'] = test"
   ]
  },
  {
   "cell_type": "code",
   "execution_count": null,
   "id": "b7ce6ddf",
   "metadata": {},
   "outputs": [],
   "source": [
    " test_df = d\n",
    "test_df"
   ]
  },
  {
   "cell_type": "markdown",
   "id": "007a86b9",
   "metadata": {},
   "source": [
    "# Multiple linear Regression"
   ]
  },
  {
   "cell_type": "code",
   "execution_count": null,
   "id": "a700f78e",
   "metadata": {},
   "outputs": [],
   "source": []
  },
  {
   "cell_type": "code",
   "execution_count": null,
   "id": "abd2698c",
   "metadata": {},
   "outputs": [],
   "source": []
  },
  {
   "cell_type": "code",
   "execution_count": null,
   "id": "b2d11b32",
   "metadata": {},
   "outputs": [],
   "source": []
  },
  {
   "cell_type": "code",
   "execution_count": null,
   "id": "a80d73a2",
   "metadata": {},
   "outputs": [],
   "source": []
  }
 ],
 "metadata": {
  "kernelspec": {
   "display_name": "Python 3 (ipykernel)",
   "language": "python",
   "name": "python3"
  },
  "language_info": {
   "codemirror_mode": {
    "name": "ipython",
    "version": 3
   },
   "file_extension": ".py",
   "mimetype": "text/x-python",
   "name": "python",
   "nbconvert_exporter": "python",
   "pygments_lexer": "ipython3",
   "version": "3.9.7"
  }
 },
 "nbformat": 4,
 "nbformat_minor": 5
}
